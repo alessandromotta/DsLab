{
 "cells": [
  {
   "cell_type": "code",
   "execution_count": 1,
   "metadata": {},
   "outputs": [
    {
     "name": "stderr",
     "output_type": "stream",
     "text": [
      "Using TensorFlow backend.\n"
     ]
    }
   ],
   "source": [
    "import pandas as pd\n",
    "import numpy as np\n",
    "import datetime\n",
    "import holidays\n",
    "import math\n",
    "from keras.models import Sequential\n",
    "from keras.layers import Dense\n",
    "from keras.layers import LSTM\n",
    "from sklearn.preprocessing import MinMaxScaler\n",
    "from sklearn.metrics import mean_squared_error\n",
    "from sklearn.metrics import mean_absolute_error\n",
    "import matplotlib.pyplot as plt\n",
    "from sklearn.model_selection import train_test_split\n",
    "\n",
    "from hyperopt import Trials, STATUS_OK, tpe\n",
    "\n",
    "from hyperas import optim\n",
    "from hyperas.distributions import choice, uniform\n",
    "from tensorflow.python.keras import backend as K"
   ]
  },
  {
   "cell_type": "code",
   "execution_count": 2,
   "metadata": {},
   "outputs": [],
   "source": [
    "dati = pd.read_csv(r'Dati_PUN_17_19.csv', parse_dates = ['Data'])\n",
    "sinusoidi = pd.read_csv(r'sinusoidi.csv')\n",
    "\n",
    "dati['Giorno'] = dati['Data'].apply(lambda x: x.date().strftime('%A'))\n",
    "\n",
    "def get_holiday(row):\n",
    "    row = row.date()\n",
    "    iatly_holidays = holidays.Italy(years = [2017, 2018, 2019])\n",
    "    if row in iatly_holidays:\n",
    "        return(1)\n",
    "    else:\n",
    "        return(0)    \n",
    "\n",
    "dati['Giorno_Vacanza'] = dati['Data'].apply(get_holiday)\n",
    "\n",
    "dummies = pd.get_dummies(dati['Giorno'])\n",
    "\n",
    "frames = [dati, dummies, sinusoidi]\n",
    "\n",
    "dati = pd.concat(frames, axis = 1)\n",
    "\n",
    "dati = dati.drop(columns = ['Giorno'])"
   ]
  },
  {
   "cell_type": "code",
   "execution_count": 3,
   "metadata": {},
   "outputs": [],
   "source": [
    "np.random.seed(7)"
   ]
  },
  {
   "cell_type": "code",
   "execution_count": 4,
   "metadata": {},
   "outputs": [],
   "source": [
    "dati_val = np.array(dati['PUN'].values).reshape(-1, 1)"
   ]
  },
  {
   "cell_type": "code",
   "execution_count": 5,
   "metadata": {},
   "outputs": [],
   "source": [
    "# normalize the dataset\n",
    "scaler = MinMaxScaler(feature_range=(0, 1))\n",
    "dati_val = scaler.fit_transform(dati_val)"
   ]
  },
  {
   "cell_type": "markdown",
   "metadata": {},
   "source": [
    "Train = dati_val[:26112]\n",
    "Test = dati_val[26112:]"
   ]
  },
  {
   "cell_type": "markdown",
   "metadata": {},
   "source": [
    "def create_dataset(dataset, look_back=1):\n",
    "    dataX, dataY = [], []\n",
    "    for i in range(len(dataset)-look_back):\n",
    "        a = dataset[i:(i+look_back), 0]\n",
    "        dataX.append(a)\n",
    "        dataY.append(dataset[i + look_back, 0])\n",
    "    return np.array(dataX), np.array(dataY)"
   ]
  },
  {
   "cell_type": "markdown",
   "metadata": {},
   "source": [
    "def get_holiday(row):\n",
    "    row = row.date()\n",
    "    iatly_holidays = holidays.Italy(years = [2017, 2018, 2019])\n",
    "    if row in iatly_holidays:\n",
    "        return(1)\n",
    "    else:\n",
    "        return(0)    "
   ]
  },
  {
   "cell_type": "markdown",
   "metadata": {},
   "source": [
    "look_back = 1\n",
    "trainX, trainY = create_dataset(Train, look_back)\n",
    "testX, testY = create_dataset(Test, look_back)"
   ]
  },
  {
   "cell_type": "markdown",
   "metadata": {},
   "source": [
    "trainX = np.reshape(trainX, (trainX.shape[0], 1, trainX.shape[1]))\n",
    "testX = np.reshape(testX, (testX.shape[0], 1, testX.shape[1]))"
   ]
  },
  {
   "cell_type": "markdown",
   "metadata": {},
   "source": [
    "model = Sequential()\n",
    "model.add(LSTM(4, input_shape=(1, look_back)))\n",
    "model.add(Dense(1))\n",
    "model.compile(loss='mean_squared_error', optimizer='adam', metrics = ['mae'])\n",
    "model.fit(trainX, trainY, epochs=4, batch_size=2, verbose=2)"
   ]
  },
  {
   "cell_type": "code",
   "execution_count": 6,
   "metadata": {},
   "outputs": [],
   "source": [
    "def data():\n",
    "    dati = pd.read_csv(r'df_prova.csv', parse_dates = ['Data'])\n",
    "    dati_val = np.array(dati['PUN'].values).reshape(-1, 1)\n",
    "    scaler = MinMaxScaler(feature_range=(0, 1))\n",
    "    dati_val = scaler.fit_transform(dati_val)\n",
    "    Train = dati_val[:26112]\n",
    "    Test = dati_val[26112:]\n",
    "    look_back = 1\n",
    "    dataX, dataY = [], []\n",
    "    \n",
    "    for i in range(len(Train)-look_back):\n",
    "        a = Train[i:(i+look_back), 0]\n",
    "        dataX.append(a)\n",
    "        dataY.append(Train[i + look_back, 0])\n",
    "        \n",
    "    trainX = np.array(dataX)\n",
    "    trainY = np.array(dataY)\n",
    "    \n",
    "    dataX, dataY = [], []\n",
    "    \n",
    "    for i in range(len(Test)-look_back):\n",
    "        a = Test[i:(i+look_back), 0]\n",
    "        dataX.append(a)\n",
    "        dataY.append(Test[i + look_back, 0])\n",
    "    \n",
    "    testX = np.array(dataX)\n",
    "    testY = np.array(dataY)\n",
    "    \n",
    "    \n",
    "    trainX = np.reshape(trainX, (trainX.shape[0], 1, trainX.shape[1]))\n",
    "    testX = np.reshape(testX, (testX.shape[0], 1, testX.shape[1]))\n",
    "    return(trainX, trainY, testX, testY)"
   ]
  },
  {
   "cell_type": "code",
   "execution_count": 7,
   "metadata": {},
   "outputs": [],
   "source": [
    "def create_model(trainX, trainY, testX, testY):\n",
    "    model = Sequential()\n",
    "    model.add(LSTM(4, input_shape=(1, look_back)))\n",
    "    model.add(Dense(1))\n",
    "    model.compile(loss='mean_squared_error',\n",
    "                 optimizer={{choice(['rmsprop', 'adam', 'sgd'])}},\n",
    "                 metrics = ['mae'])\n",
    "    results = model.fit(trainX, trainY, epochs=10, batch_size={{choice([2, 4, 6, 32, 64, 128])}}, \n",
    "                        verbose=2)\n",
    "    validation_mae = np.amax(results.history['mae'])\n",
    "    print('Best validation mae of epoch:', validation_mae)\n",
    "    return {'loss': validation_mae, 'status': STATUS_OK, 'model': model}"
   ]
  },
  {
   "cell_type": "code",
   "execution_count": 8,
   "metadata": {},
   "outputs": [
    {
     "name": "stdout",
     "output_type": "stream",
     "text": [
      ">>> Imports:\n",
      "#coding=utf-8\n",
      "\n",
      "try:\n",
      "    import pandas as pd\n",
      "except:\n",
      "    pass\n",
      "\n",
      "try:\n",
      "    import numpy as np\n",
      "except:\n",
      "    pass\n",
      "\n",
      "try:\n",
      "    import datetime\n",
      "except:\n",
      "    pass\n",
      "\n",
      "try:\n",
      "    import holidays\n",
      "except:\n",
      "    pass\n",
      "\n",
      "try:\n",
      "    import math\n",
      "except:\n",
      "    pass\n",
      "\n",
      "try:\n",
      "    from keras.models import Sequential\n",
      "except:\n",
      "    pass\n",
      "\n",
      "try:\n",
      "    from keras.layers import Dense\n",
      "except:\n",
      "    pass\n",
      "\n",
      "try:\n",
      "    from keras.layers import LSTM\n",
      "except:\n",
      "    pass\n",
      "\n",
      "try:\n",
      "    from sklearn.preprocessing import MinMaxScaler\n",
      "except:\n",
      "    pass\n",
      "\n",
      "try:\n",
      "    from sklearn.metrics import mean_squared_error\n",
      "except:\n",
      "    pass\n",
      "\n",
      "try:\n",
      "    from sklearn.metrics import mean_absolute_error\n",
      "except:\n",
      "    pass\n",
      "\n",
      "try:\n",
      "    import matplotlib.pyplot as plt\n",
      "except:\n",
      "    pass\n",
      "\n",
      "try:\n",
      "    from sklearn.model_selection import train_test_split\n",
      "except:\n",
      "    pass\n",
      "\n",
      "try:\n",
      "    from hyperopt import Trials, STATUS_OK, tpe\n",
      "except:\n",
      "    pass\n",
      "\n",
      "try:\n",
      "    from hyperas import optim\n",
      "except:\n",
      "    pass\n",
      "\n",
      "try:\n",
      "    from hyperas.distributions import choice, uniform\n",
      "except:\n",
      "    pass\n",
      "\n",
      "try:\n",
      "    from tensorflow.python.keras import backend as K\n",
      "except:\n",
      "    pass\n",
      "\n",
      ">>> Hyperas search space:\n",
      "\n",
      "def get_space():\n",
      "    return {\n",
      "        'optimizer': hp.choice('optimizer', ['rmsprop', 'adam', 'sgd']),\n",
      "        'batch_size': hp.choice('batch_size', [2, 4, 6, 32, 64, 128]),\n",
      "    }\n",
      "\n",
      ">>> Data\n",
      "  1: \n",
      "  2: dati = pd.read_csv(r'df_prova.csv', parse_dates = ['Data'])\n",
      "  3: dati_val = np.array(dati['PUN'].values).reshape(-1, 1)\n",
      "  4: scaler = MinMaxScaler(feature_range=(0, 1))\n",
      "  5: dati_val = scaler.fit_transform(dati_val)\n",
      "  6: Train = dati_val[:26112]\n",
      "  7: Test = dati_val[26112:]\n",
      "  8: look_back = 1\n",
      "  9: dataX, dataY = [], []\n",
      " 10: \n",
      " 11: for i in range(len(Train)-look_back):\n",
      " 12:     a = Train[i:(i+look_back), 0]\n",
      " 13:     dataX.append(a)\n",
      " 14:     dataY.append(Train[i + look_back, 0])\n",
      " 15:     \n",
      " 16: trainX = np.array(dataX)\n",
      " 17: trainY = np.array(dataY)\n",
      " 18: \n",
      " 19: dataX, dataY = [], []\n",
      " 20: \n",
      " 21: for i in range(len(Test)-look_back):\n",
      " 22:     a = Test[i:(i+look_back), 0]\n",
      " 23:     dataX.append(a)\n",
      " 24:     dataY.append(Test[i + look_back, 0])\n",
      " 25: \n",
      " 26: testX = np.array(dataX)\n",
      " 27: testY = np.array(dataY)\n",
      " 28: \n",
      " 29: \n",
      " 30: trainX = np.reshape(trainX, (trainX.shape[0], 1, trainX.shape[1]))\n",
      " 31: testX = np.reshape(testX, (testX.shape[0], 1, testX.shape[1]))\n",
      " 32: \n",
      " 33: \n",
      " 34: \n",
      ">>> Resulting replaced keras model:\n",
      "\n",
      "  1: def keras_fmin_fnct(space):\n",
      "  2: \n",
      "  3:     model = Sequential()\n",
      "  4:     model.add(LSTM(4, input_shape=(1, look_back)))\n",
      "  5:     model.add(Dense(1))\n",
      "  6:     model.compile(loss='mean_squared_error',\n",
      "  7:                  optimizer=space['optimizer'],\n",
      "  8:                  metrics = ['mae'])\n",
      "  9:     results = model.fit(trainX, trainY, epochs=10, batch_size=space['batch_size'], \n",
      " 10:                         verbose=2)\n",
      " 11:     validation_mae = np.amax(results.history['mae'])\n",
      " 12:     print('Best validation mae of epoch:', validation_mae)\n",
      " 13:     return {'loss': validation_mae, 'status': STATUS_OK, 'model': model}\n",
      " 14: \n",
      "Epoch 1/10                                           \n",
      " - 6s - loss: 0.0069 - mae: 0.0631                   \n",
      "\n",
      "Epoch 2/10                                           \n",
      " - 6s - loss: 0.0049 - mae: 0.0535                   \n",
      "\n",
      "Epoch 3/10                                           \n",
      " - 5s - loss: 0.0033 - mae: 0.0433                   \n",
      "\n",
      "Epoch 4/10                                           \n",
      " - 6s - loss: 0.0020 - mae: 0.0333                   \n",
      "\n",
      "Epoch 5/10                                           \n",
      " - 8s - loss: 0.0013 - mae: 0.0265                   \n",
      "\n",
      "Epoch 6/10                                           \n",
      " - 8s - loss: 0.0011 - mae: 0.0236                   \n",
      "\n",
      "Epoch 7/10                                           \n",
      " - 9s - loss: 0.0010 - mae: 0.0228                   \n",
      "\n",
      "Epoch 8/10                                           \n",
      " - 8s - loss: 9.9318e-04 - mae: 0.0226               \n",
      "\n",
      "Epoch 9/10                                           \n",
      " - 7s - loss: 9.9044e-04 - mae: 0.0225               \n",
      "\n",
      "Epoch 10/10                                          \n",
      " - 6s - loss: 9.8995e-04 - mae: 0.0225               \n",
      "\n",
      "Best validation mae of epoch:                        \n",
      "0.06314051                                           \n",
      "Epoch 1/10                                                                      \n",
      " - 7s - loss: 0.0024 - mae: 0.0305                                              \n",
      "\n",
      "Epoch 2/10                                                                      \n",
      " - 7s - loss: 0.0010 - mae: 0.0230                                              \n",
      "\n",
      "Epoch 3/10                                                                      \n",
      " - 6s - loss: 0.0010 - mae: 0.0230                                              \n",
      "\n",
      "Epoch 4/10                                                                      \n",
      " - 5s - loss: 0.0010 - mae: 0.0230                                              \n",
      "\n",
      "Epoch 5/10                                                                      \n",
      " - 6s - loss: 0.0010 - mae: 0.0229                                              \n",
      "\n",
      "Epoch 6/10                                                                      \n",
      " - 7s - loss: 0.0010 - mae: 0.0229                                              \n",
      "\n",
      "Epoch 7/10                                                                      \n",
      " - 8s - loss: 0.0010 - mae: 0.0229                                              \n",
      "\n",
      "Epoch 8/10                                                                      \n",
      " - 8s - loss: 0.0010 - mae: 0.0229                                              \n",
      "\n",
      "Epoch 9/10                                                                      \n",
      " - 7s - loss: 0.0010 - mae: 0.0228                                              \n",
      "\n",
      "Epoch 10/10                                                                     \n",
      " - 7s - loss: 0.0010 - mae: 0.0228                                              \n",
      "\n",
      "Best validation mae of epoch:                                                   \n",
      "0.030535404                                                                     \n",
      "Epoch 1/10                                                                      \n",
      " - 4s - loss: 0.0049 - mae: 0.0428                                              \n",
      "\n",
      "Epoch 2/10                                                                      \n",
      " - 4s - loss: 0.0010 - mae: 0.0230                                              \n",
      "\n",
      "Epoch 3/10                                                                      \n",
      " - 4s - loss: 0.0010 - mae: 0.0229                                              \n",
      "\n",
      "Epoch 4/10                                                                      \n",
      " - 4s - loss: 0.0010 - mae: 0.0228                                              \n",
      "\n",
      "Epoch 5/10                                                                      \n",
      " - 4s - loss: 0.0010 - mae: 0.0228                                              \n",
      "\n",
      "Epoch 6/10                                                                      \n",
      " - 4s - loss: 0.0010 - mae: 0.0228                                              \n",
      "\n",
      "Epoch 7/10                                                                      \n",
      " - 4s - loss: 0.0010 - mae: 0.0227                                              \n",
      "\n",
      "Epoch 8/10                                                                      \n",
      " - 4s - loss: 0.0010 - mae: 0.0227                                              \n",
      "\n",
      "Epoch 9/10                                                                      \n",
      " - 4s - loss: 0.0010 - mae: 0.0227                                              \n",
      "\n",
      "Epoch 10/10                                                                     \n",
      " - 4s - loss: 0.0010 - mae: 0.0227                                              \n",
      "\n",
      "Best validation mae of epoch:                                                   \n",
      "0.042847943                                                                     \n",
      "Epoch 1/10                                                                      \n",
      " - 0s - loss: 0.0629 - mae: 0.2209                                              \n",
      "\n",
      "Epoch 2/10                                                                      \n",
      " - 0s - loss: 0.0097 - mae: 0.0731                                              \n",
      "\n",
      "Epoch 3/10                                                                      \n",
      " - 0s - loss: 0.0069 - mae: 0.0637                                              \n",
      "\n",
      "Epoch 4/10                                                                      \n",
      " - 0s - loss: 0.0064 - mae: 0.0613                                              \n",
      "\n",
      "Epoch 5/10                                                                      \n",
      " - 0s - loss: 0.0057 - mae: 0.0581                                              \n",
      "\n",
      "Epoch 6/10                                                                      \n",
      " - 0s - loss: 0.0050 - mae: 0.0541                                              \n",
      "\n",
      "Epoch 7/10                                                                      \n",
      " - 0s - loss: 0.0041 - mae: 0.0489                                              \n",
      "\n",
      "Epoch 8/10                                                                      \n",
      " - 0s - loss: 0.0031 - mae: 0.0424                                              \n",
      "\n",
      "Epoch 9/10                                                                      \n",
      " - 0s - loss: 0.0022 - mae: 0.0351                                              \n",
      "\n",
      "Epoch 10/10                                                                     \n",
      " - 0s - loss: 0.0015 - mae: 0.0286                                              \n",
      "\n",
      "Best validation mae of epoch:                                                   \n",
      "0.22088106                                                                      \n",
      "Epoch 1/10                                                                      \n",
      " - 1s - loss: 0.0103 - mae: 0.0644                                              \n",
      "\n",
      "Epoch 2/10                                                                      \n",
      " - 1s - loss: 9.9638e-04 - mae: 0.0227                                          \n",
      "\n",
      "Epoch 3/10                                                                      \n",
      " - 1s - loss: 9.9416e-04 - mae: 0.0226                                          \n",
      "\n",
      "Epoch 4/10                                                                      \n",
      " - 1s - loss: 9.9409e-04 - mae: 0.0225                                          \n",
      "\n",
      "Epoch 5/10                                                                      \n",
      " - 1s - loss: 9.9356e-04 - mae: 0.0226                                          \n",
      "\n",
      "Epoch 6/10                                                                      \n",
      " - 1s - loss: 9.9454e-04 - mae: 0.0226                                          \n",
      "\n",
      "Epoch 7/10                                                                      \n",
      " - 1s - loss: 9.9482e-04 - mae: 0.0226                                          \n",
      "\n",
      "Epoch 8/10                                                                      \n",
      " - 1s - loss: 9.9324e-04 - mae: 0.0226                                          \n",
      "\n",
      "Epoch 9/10                                                                      \n",
      " - 1s - loss: 9.9520e-04 - mae: 0.0226                                          \n",
      "\n",
      "Epoch 10/10                                                                     \n",
      " - 1s - loss: 9.9496e-04 - mae: 0.0226                                          \n",
      "\n",
      "Best validation mae of epoch:                                                   \n",
      "0.06436877                                                                      \n",
      "100%|██████████| 5/5 [03:09<00:00, 37.81s/trial, best loss: 0.03053540363907814]\n"
     ]
    }
   ],
   "source": [
    "best_run, best_model = optim.minimize(model=create_model,\n",
    "                                      data = data,\n",
    "                                      algo=tpe.suggest,\n",
    "                                      max_evals=5,\n",
    "                                      trials=Trials(),\n",
    "                                      notebook_name='LSTM')"
   ]
  },
  {
   "cell_type": "code",
   "execution_count": 9,
   "metadata": {},
   "outputs": [
    {
     "name": "stdout",
     "output_type": "stream",
     "text": [
      "Best performing model chosen hyper-parameters:\n",
      "{'batch_size': 1, 'optimizer': 0}\n"
     ]
    }
   ],
   "source": [
    "print(\"Best performing model chosen hyper-parameters:\")\n",
    "print(best_run)"
   ]
  },
  {
   "cell_type": "code",
   "execution_count": 10,
   "metadata": {},
   "outputs": [],
   "source": [
    "trainX, trainY, testX, testY = data()"
   ]
  },
  {
   "cell_type": "code",
   "execution_count": 11,
   "metadata": {},
   "outputs": [],
   "source": [
    "trainPredict = best_model.predict(trainX)\n",
    "testPredict = best_model.predict(testX)"
   ]
  },
  {
   "cell_type": "code",
   "execution_count": 12,
   "metadata": {},
   "outputs": [],
   "source": [
    "trainPredict = scaler.inverse_transform(trainPredict)\n",
    "\n",
    "trainY = scaler.inverse_transform([trainY])\n",
    "\n",
    "testPredict = scaler.inverse_transform(testPredict)\n",
    "\n",
    "testY = scaler.inverse_transform([testY])"
   ]
  },
  {
   "cell_type": "code",
   "execution_count": 13,
   "metadata": {},
   "outputs": [
    {
     "name": "stdout",
     "output_type": "stream",
     "text": [
      "Train Score: 3.76 MAE\n",
      "Test Score: 2.92 MAE\n"
     ]
    }
   ],
   "source": [
    "trainMAE = (mean_absolute_error(trainY[0], trainPredict[:,0]))\n",
    "print('Train Score: %.2f MAE' % (trainMAE))\n",
    "testMAE = (mean_absolute_error(testY[0], testPredict[:,0]))\n",
    "print('Test Score: %.2f MAE' % (testMAE))"
   ]
  },
  {
   "cell_type": "code",
   "execution_count": 14,
   "metadata": {},
   "outputs": [],
   "source": [
    "def mean_absolute_percentage_error(y_true, y_pred):\n",
    "    y_true, y_pred = np.array(y_true), np.array(y_pred)\n",
    "    return np.mean(np.abs((y_true - y_pred) / y_true)) * 100\n"
   ]
  },
  {
   "cell_type": "code",
   "execution_count": 15,
   "metadata": {},
   "outputs": [
    {
     "name": "stdout",
     "output_type": "stream",
     "text": [
      "Train Score: 6.85 MAPE\n",
      "Test Score: 10.49 MAPE\n"
     ]
    }
   ],
   "source": [
    "trainMAPE = mean_absolute_percentage_error(trainY[0], trainPredict[:,0])\n",
    "print('Train Score: %.2f MAPE' % (trainMAPE))\n",
    "testMAPE = mean_absolute_percentage_error(testY[0], testPredict[:,0])\n",
    "print('Test Score: %.2f MAPE' % (testMAPE))"
   ]
  },
  {
   "cell_type": "code",
   "execution_count": 16,
   "metadata": {},
   "outputs": [],
   "source": [
    "dftrain = pd.DataFrame({'TrainPredict': trainPredict[:,0], 'TrainY':trainY[0]})\n",
    "dftest = pd.DataFrame({'TestPredict': testPredict[:,0], 'TestY':testY[0]})"
   ]
  },
  {
   "cell_type": "code",
   "execution_count": 17,
   "metadata": {},
   "outputs": [
    {
     "data": {
      "text/plain": [
       "<matplotlib.legend.Legend at 0x209ac26bec8>"
      ]
     },
     "execution_count": 17,
     "metadata": {},
     "output_type": "execute_result"
    },
    {
     "data": {
      "image/png": "[encoded data removed]",
      "text/plain": [
       "<Figure size 432x288 with 1 Axes>"
      ]
     },
     "metadata": {
      "needs_background": "light"
     },
     "output_type": "display_data"
    }
   ],
   "source": [
    "plt.plot('TrainY', color = \"orange\", data = dftrain, label = 'Osservati')\n",
    "plt.plot('TrainPredict', color = \"blue\", data = dftrain, label = 'Predetti');\n",
    "plt.legend()"
   ]
  },
  {
   "cell_type": "code",
   "execution_count": 18,
   "metadata": {},
   "outputs": [
    {
     "data": {
      "text/plain": [
       "<matplotlib.legend.Legend at 0x209bdaa5c48>"
      ]
     },
     "execution_count": 18,
     "metadata": {},
     "output_type": "execute_result"
    },
    {
     "data": {
      "image/png": "[encoded data removed]",
      "text/plain": [
       "<Figure size 432x288 with 1 Axes>"
      ]
     },
     "metadata": {
      "needs_background": "light"
     },
     "output_type": "display_data"
    }
   ],
   "source": [
    "plt.plot('TestY', color = \"orange\", data = dftest, label = 'Osservati')\n",
    "plt.plot('TestPredict', color = \"blue\", data = dftest, label = 'Predetti');\n",
    "plt.legend()"
   ]
  }
 ],
 "metadata": {
  "kernelspec": {
   "display_name": "Python 3",
   "language": "python",
   "name": "python3"
  },
  "language_info": {
   "codemirror_mode": {
    "name": "ipython",
    "version": 3
   },
   "file_extension": ".py",
   "mimetype": "text/x-python",
   "name": "python",
   "nbconvert_exporter": "python",
   "pygments_lexer": "ipython3",
   "version": "3.7.4"
  }
 },
 "nbformat": 4,
 "nbformat_minor": 4
}
