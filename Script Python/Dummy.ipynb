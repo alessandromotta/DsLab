{
 "cells": [
  {
   "cell_type": "code",
   "execution_count": 1,
   "metadata": {},
   "outputs": [],
   "source": [
    "import pandas as pd\n",
    "import datetime\n",
    "import holidays"
   ]
  },
  {
   "cell_type": "code",
   "execution_count": 2,
   "metadata": {},
   "outputs": [],
   "source": [
    "dati = pd.read_csv(r'Dati_PUN_17_19.csv', parse_dates = ['Data'])\n",
    "sinusoidi = pd.read_csv(r'sinusoidi.csv')"
   ]
  },
  {
   "cell_type": "code",
   "execution_count": 3,
   "metadata": {},
   "outputs": [],
   "source": [
    "dati['Giorno'] = dati['Data'].apply(lambda x: x.date().strftime('%A'))"
   ]
  },
  {
   "cell_type": "code",
   "execution_count": 4,
   "metadata": {},
   "outputs": [],
   "source": [
    "iatly_holidays = holidays.Italy(years = [2017, 2018, 2019])"
   ]
  },
  {
   "cell_type": "code",
   "execution_count": 5,
   "metadata": {},
   "outputs": [],
   "source": [
    "def get_holiday(row):\n",
    "    row = row.date()\n",
    "    iatly_holidays = holidays.Italy(years = [2017, 2018, 2019])\n",
    "    if row in iatly_holidays:\n",
    "        return(1)\n",
    "    else:\n",
    "        return(0)    "
   ]
  },
  {
   "cell_type": "code",
   "execution_count": 6,
   "metadata": {},
   "outputs": [],
   "source": [
    "dati['Giorno_Vacanza'] = dati['Data'].apply(get_holiday)"
   ]
  },
  {
   "cell_type": "code",
   "execution_count": 7,
   "metadata": {},
   "outputs": [
    {
     "data": {
      "text/html": [
       "<div>\n",
       "<style scoped>\n",
       "    .dataframe tbody tr th:only-of-type {\n",
       "        vertical-align: middle;\n",
       "    }\n",
       "\n",
       "    .dataframe tbody tr th {\n",
       "        vertical-align: top;\n",
       "    }\n",
       "\n",
       "    .dataframe thead th {\n",
       "        text-align: right;\n",
       "    }\n",
       "</style>\n",
       "<table border=\"1\" class=\"dataframe\">\n",
       "  <thead>\n",
       "    <tr style=\"text-align: right;\">\n",
       "      <th></th>\n",
       "      <th>Data</th>\n",
       "      <th>PUN</th>\n",
       "      <th>Giorno</th>\n",
       "      <th>Giorno_Vacanza</th>\n",
       "    </tr>\n",
       "  </thead>\n",
       "  <tbody>\n",
       "    <tr>\n",
       "      <td>0</td>\n",
       "      <td>2017-01-01 00:00:00</td>\n",
       "      <td>53.30</td>\n",
       "      <td>Sunday</td>\n",
       "      <td>1</td>\n",
       "    </tr>\n",
       "    <tr>\n",
       "      <td>1</td>\n",
       "      <td>2017-01-01 01:00:00</td>\n",
       "      <td>52.00</td>\n",
       "      <td>Sunday</td>\n",
       "      <td>1</td>\n",
       "    </tr>\n",
       "    <tr>\n",
       "      <td>2</td>\n",
       "      <td>2017-01-01 02:00:00</td>\n",
       "      <td>51.00</td>\n",
       "      <td>Sunday</td>\n",
       "      <td>1</td>\n",
       "    </tr>\n",
       "    <tr>\n",
       "      <td>3</td>\n",
       "      <td>2017-01-01 03:00:00</td>\n",
       "      <td>47.27</td>\n",
       "      <td>Sunday</td>\n",
       "      <td>1</td>\n",
       "    </tr>\n",
       "    <tr>\n",
       "      <td>4</td>\n",
       "      <td>2017-01-01 04:00:00</td>\n",
       "      <td>45.49</td>\n",
       "      <td>Sunday</td>\n",
       "      <td>1</td>\n",
       "    </tr>\n",
       "  </tbody>\n",
       "</table>\n",
       "</div>"
      ],
      "text/plain": [
       "                 Data    PUN  Giorno  Giorno_Vacanza\n",
       "0 2017-01-01 00:00:00  53.30  Sunday               1\n",
       "1 2017-01-01 01:00:00  52.00  Sunday               1\n",
       "2 2017-01-01 02:00:00  51.00  Sunday               1\n",
       "3 2017-01-01 03:00:00  47.27  Sunday               1\n",
       "4 2017-01-01 04:00:00  45.49  Sunday               1"
      ]
     },
     "execution_count": 7,
     "metadata": {},
     "output_type": "execute_result"
    }
   ],
   "source": [
    "dati.head()"
   ]
  },
  {
   "cell_type": "code",
   "execution_count": 8,
   "metadata": {},
   "outputs": [
    {
     "data": {
      "text/plain": [
       "0    25416\n",
       "1      864\n",
       "Name: Giorno_Vacanza, dtype: int64"
      ]
     },
     "execution_count": 8,
     "metadata": {},
     "output_type": "execute_result"
    }
   ],
   "source": [
    "dati['Giorno_Vacanza'].value_counts()"
   ]
  },
  {
   "cell_type": "markdown",
   "metadata": {},
   "source": [
    "Corretto poichè ci sonp 12 giorni festivi spalamati su 24 ore e 3 anni. Quindi 12 * 24 * 3 = 864"
   ]
  },
  {
   "cell_type": "code",
   "execution_count": 9,
   "metadata": {},
   "outputs": [],
   "source": [
    "dummies = pd.get_dummies(dati['Giorno'])"
   ]
  },
  {
   "cell_type": "code",
   "execution_count": 10,
   "metadata": {},
   "outputs": [],
   "source": [
    "frames = [dati, dummies, sinusoidi]"
   ]
  },
  {
   "cell_type": "code",
   "execution_count": 11,
   "metadata": {},
   "outputs": [],
   "source": [
    "dati = pd.concat(frames, axis = 1)"
   ]
  },
  {
   "cell_type": "code",
   "execution_count": 13,
   "metadata": {},
   "outputs": [],
   "source": [
    "dati = dati.drop(columns = ['Giorno'])"
   ]
  },
  {
   "cell_type": "code",
   "execution_count": 14,
   "metadata": {},
   "outputs": [
    {
     "data": {
      "text/html": [
       "<div>\n",
       "<style scoped>\n",
       "    .dataframe tbody tr th:only-of-type {\n",
       "        vertical-align: middle;\n",
       "    }\n",
       "\n",
       "    .dataframe tbody tr th {\n",
       "        vertical-align: top;\n",
       "    }\n",
       "\n",
       "    .dataframe thead th {\n",
       "        text-align: right;\n",
       "    }\n",
       "</style>\n",
       "<table border=\"1\" class=\"dataframe\">\n",
       "  <thead>\n",
       "    <tr style=\"text-align: right;\">\n",
       "      <th></th>\n",
       "      <th>Data</th>\n",
       "      <th>PUN</th>\n",
       "      <th>Giorno_Vacanza</th>\n",
       "      <th>Friday</th>\n",
       "      <th>Monday</th>\n",
       "      <th>Saturday</th>\n",
       "      <th>Sunday</th>\n",
       "      <th>Thursday</th>\n",
       "      <th>Tuesday</th>\n",
       "      <th>Wednesday</th>\n",
       "      <th>...</th>\n",
       "      <th>sinu365.23</th>\n",
       "      <th>sinu365.24</th>\n",
       "      <th>sinu365.25</th>\n",
       "      <th>sinu365.26</th>\n",
       "      <th>sinu365.27</th>\n",
       "      <th>sinu365.28</th>\n",
       "      <th>sinu365.29</th>\n",
       "      <th>sinu365.30</th>\n",
       "      <th>sinu365.31</th>\n",
       "      <th>sinu365.32</th>\n",
       "    </tr>\n",
       "  </thead>\n",
       "  <tbody>\n",
       "    <tr>\n",
       "      <td>0</td>\n",
       "      <td>2017-01-01 00:00:00</td>\n",
       "      <td>53.30</td>\n",
       "      <td>1</td>\n",
       "      <td>0</td>\n",
       "      <td>0</td>\n",
       "      <td>0</td>\n",
       "      <td>1</td>\n",
       "      <td>0</td>\n",
       "      <td>0</td>\n",
       "      <td>0</td>\n",
       "      <td>...</td>\n",
       "      <td>0.248940</td>\n",
       "      <td>-0.160575</td>\n",
       "      <td>-0.543105</td>\n",
       "      <td>-0.834370</td>\n",
       "      <td>-0.985424</td>\n",
       "      <td>-0.970882</td>\n",
       "      <td>-0.793190</td>\n",
       "      <td>-0.482206</td>\n",
       "      <td>-0.090190</td>\n",
       "      <td>0.316982</td>\n",
       "    </tr>\n",
       "    <tr>\n",
       "      <td>1</td>\n",
       "      <td>2017-01-01 01:00:00</td>\n",
       "      <td>52.00</td>\n",
       "      <td>1</td>\n",
       "      <td>0</td>\n",
       "      <td>0</td>\n",
       "      <td>0</td>\n",
       "      <td>1</td>\n",
       "      <td>0</td>\n",
       "      <td>0</td>\n",
       "      <td>0</td>\n",
       "      <td>...</td>\n",
       "      <td>-0.482206</td>\n",
       "      <td>0.316982</td>\n",
       "      <td>0.912053</td>\n",
       "      <td>0.919817</td>\n",
       "      <td>0.335276</td>\n",
       "      <td>-0.465162</td>\n",
       "      <td>-0.966065</td>\n",
       "      <td>-0.844881</td>\n",
       "      <td>-0.179645</td>\n",
       "      <td>0.601271</td>\n",
       "    </tr>\n",
       "    <tr>\n",
       "      <td>2</td>\n",
       "      <td>2017-01-01 02:00:00</td>\n",
       "      <td>51.00</td>\n",
       "      <td>1</td>\n",
       "      <td>0</td>\n",
       "      <td>0</td>\n",
       "      <td>0</td>\n",
       "      <td>1</td>\n",
       "      <td>0</td>\n",
       "      <td>0</td>\n",
       "      <td>0</td>\n",
       "      <td>...</td>\n",
       "      <td>0.685111</td>\n",
       "      <td>-0.465162</td>\n",
       "      <td>-0.988531</td>\n",
       "      <td>-0.179645</td>\n",
       "      <td>0.871351</td>\n",
       "      <td>0.748017</td>\n",
       "      <td>-0.383428</td>\n",
       "      <td>-0.998123</td>\n",
       "      <td>-0.267636</td>\n",
       "      <td>0.823547</td>\n",
       "    </tr>\n",
       "    <tr>\n",
       "      <td>3</td>\n",
       "      <td>2017-01-01 03:00:00</td>\n",
       "      <td>47.27</td>\n",
       "      <td>1</td>\n",
       "      <td>0</td>\n",
       "      <td>0</td>\n",
       "      <td>0</td>\n",
       "      <td>1</td>\n",
       "      <td>0</td>\n",
       "      <td>0</td>\n",
       "      <td>0</td>\n",
       "      <td>...</td>\n",
       "      <td>-0.844881</td>\n",
       "      <td>0.601271</td>\n",
       "      <td>0.748017</td>\n",
       "      <td>-0.721775</td>\n",
       "      <td>-0.631740</td>\n",
       "      <td>0.823547</td>\n",
       "      <td>0.499069</td>\n",
       "      <td>-0.903946</td>\n",
       "      <td>-0.353445</td>\n",
       "      <td>0.960885</td>\n",
       "    </tr>\n",
       "    <tr>\n",
       "      <td>4</td>\n",
       "      <td>2017-01-01 04:00:00</td>\n",
       "      <td>45.49</td>\n",
       "      <td>1</td>\n",
       "      <td>0</td>\n",
       "      <td>0</td>\n",
       "      <td>0</td>\n",
       "      <td>1</td>\n",
       "      <td>0</td>\n",
       "      <td>0</td>\n",
       "      <td>0</td>\n",
       "      <td>...</td>\n",
       "      <td>0.951454</td>\n",
       "      <td>-0.721775</td>\n",
       "      <td>-0.267636</td>\n",
       "      <td>0.975336</td>\n",
       "      <td>-0.656411</td>\n",
       "      <td>-0.353445</td>\n",
       "      <td>0.991269</td>\n",
       "      <td>-0.585696</td>\n",
       "      <td>-0.436373</td>\n",
       "      <td>0.999121</td>\n",
       "    </tr>\n",
       "  </tbody>\n",
       "</table>\n",
       "<p>5 rows × 42 columns</p>\n",
       "</div>"
      ],
      "text/plain": [
       "                 Data    PUN  Giorno_Vacanza  Friday  Monday  Saturday  \\\n",
       "0 2017-01-01 00:00:00  53.30               1       0       0         0   \n",
       "1 2017-01-01 01:00:00  52.00               1       0       0         0   \n",
       "2 2017-01-01 02:00:00  51.00               1       0       0         0   \n",
       "3 2017-01-01 03:00:00  47.27               1       0       0         0   \n",
       "4 2017-01-01 04:00:00  45.49               1       0       0         0   \n",
       "\n",
       "   Sunday  Thursday  Tuesday  Wednesday  ...  sinu365.23  sinu365.24  \\\n",
       "0       1         0        0          0  ...    0.248940   -0.160575   \n",
       "1       1         0        0          0  ...   -0.482206    0.316982   \n",
       "2       1         0        0          0  ...    0.685111   -0.465162   \n",
       "3       1         0        0          0  ...   -0.844881    0.601271   \n",
       "4       1         0        0          0  ...    0.951454   -0.721775   \n",
       "\n",
       "   sinu365.25  sinu365.26  sinu365.27  sinu365.28  sinu365.29  sinu365.30  \\\n",
       "0   -0.543105   -0.834370   -0.985424   -0.970882   -0.793190   -0.482206   \n",
       "1    0.912053    0.919817    0.335276   -0.465162   -0.966065   -0.844881   \n",
       "2   -0.988531   -0.179645    0.871351    0.748017   -0.383428   -0.998123   \n",
       "3    0.748017   -0.721775   -0.631740    0.823547    0.499069   -0.903946   \n",
       "4   -0.267636    0.975336   -0.656411   -0.353445    0.991269   -0.585696   \n",
       "\n",
       "   sinu365.31  sinu365.32  \n",
       "0   -0.090190    0.316982  \n",
       "1   -0.179645    0.601271  \n",
       "2   -0.267636    0.823547  \n",
       "3   -0.353445    0.960885  \n",
       "4   -0.436373    0.999121  \n",
       "\n",
       "[5 rows x 42 columns]"
      ]
     },
     "execution_count": 14,
     "metadata": {},
     "output_type": "execute_result"
    }
   ],
   "source": [
    "dati.head()"
   ]
  },
  {
   "cell_type": "code",
   "execution_count": null,
   "metadata": {},
   "outputs": [],
   "source": []
  }
 ],
 "metadata": {
  "kernelspec": {
   "display_name": "Python 3",
   "language": "python",
   "name": "python3"
  },
  "language_info": {
   "codemirror_mode": {
    "name": "ipython",
    "version": 3
   },
   "file_extension": ".py",
   "mimetype": "text/x-python",
   "name": "python",
   "nbconvert_exporter": "python",
   "pygments_lexer": "ipython3",
   "version": "3.7.4"
  }
 },
 "nbformat": 4,
 "nbformat_minor": 4
}
