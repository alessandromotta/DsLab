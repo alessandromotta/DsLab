{
 "cells": [
  {
   "cell_type": "code",
   "execution_count": 7,
   "metadata": {},
   "outputs": [],
   "source": [
    "import numpy as np\n",
    "import tensorflow as tf\n",
    "import random as python_random\n",
    "\n",
    "# The below is necessary for starting Numpy generated random numbers\n",
    "# in a well-defined initial state.\n",
    "np.random.seed(777)\n",
    "\n",
    "# The below is necessary for starting core Python generated random numbers\n",
    "# in a well-defined state.\n",
    "python_random.seed(745)\n",
    "\n",
    "# The below set_seed() will make random number generation\n",
    "# in the TensorFlow backend have a well-defined initial state.\n",
    "tf.random.set_seed(1234455)\n",
    "import numpy as np\n",
    "import matplotlib.pyplot as plt\n",
    "import pandas as pd\n",
    "from sklearn.preprocessing import MinMaxScaler\n",
    "from keras.models import Sequential\n",
    "from keras.layers import Dense, LSTM, Dropout, GRU, Bidirectional, Activation, SimpleRNN\n",
    "from keras.optimizers import SGD\n",
    "import math\n",
    "from sklearn.metrics import mean_squared_error\n",
    "from sklearn.metrics import mean_absolute_error"
   ]
  },
  {
   "cell_type": "code",
   "execution_count": 2,
   "metadata": {},
   "outputs": [],
   "source": [
    "def mean_absolute_percentage_error(y_true, y_pred):\n",
    "    y_true, y_pred = np.array(y_true), np.array(y_pred)\n",
    "    return np.mean(np.abs((y_true - y_pred) / y_true)) * 100\n"
   ]
  },
  {
   "cell_type": "code",
   "execution_count": 3,
   "metadata": {},
   "outputs": [],
   "source": [
    "dataset = pd.read_csv(r'df_prova.csv', parse_dates = ['Data'])\n",
    "\n",
    "dataset = dataset['PUN'].values\n",
    "\n",
    "dataset\n",
    "\n",
    "Training_set = dataset[:26112]\n",
    "Test_set = dataset[26112:]\n",
    "\n",
    "Training_set = Training_set.reshape(-1, 1)"
   ]
  },
  {
   "cell_type": "code",
   "execution_count": 4,
   "metadata": {},
   "outputs": [],
   "source": [
    "sc = MinMaxScaler(feature_range=(0,1))"
   ]
  },
  {
   "cell_type": "code",
   "execution_count": 5,
   "metadata": {},
   "outputs": [],
   "source": [
    "training_set_scaled = sc.fit_transform(Training_set)"
   ]
  },
  {
   "cell_type": "code",
   "execution_count": 47,
   "metadata": {},
   "outputs": [],
   "source": [
    "X_train = []\n",
    "y_train = []\n",
    "for i in range(24,26112):\n",
    "    X_train.append(training_set_scaled[i-24:i,0])\n",
    "    y_train.append(training_set_scaled[i,0])\n",
    "X_train, y_train = np.array(X_train), np.array(y_train)\n",
    "\n",
    "X_train = np.reshape(X_train, (X_train.shape[0],X_train.shape[1],1))"
   ]
  },
  {
   "cell_type": "code",
   "execution_count": 52,
   "metadata": {},
   "outputs": [
    {
     "name": "stdout",
     "output_type": "stream",
     "text": [
      "Epoch 1/50\n",
      "26088/26088 [==============================] - 9s 350us/step - loss: 0.0718\n",
      "Epoch 2/50\n",
      "26088/26088 [==============================] - 9s 330us/step - loss: 0.0084\n",
      "Epoch 3/50\n",
      "26088/26088 [==============================] - 8s 325us/step - loss: 0.0033\n",
      "Epoch 4/50\n",
      "26088/26088 [==============================] - 11s 408us/step - loss: 0.0020\n",
      "Epoch 5/50\n",
      "26088/26088 [==============================] - 10s 366us/step - loss: 0.0015\n",
      "Epoch 6/50\n",
      "26088/26088 [==============================] - 9s 359us/step - loss: 0.0012\n",
      "Epoch 7/50\n",
      "26088/26088 [==============================] - 10s 365us/step - loss: 0.0011\n",
      "Epoch 8/50\n",
      "26088/26088 [==============================] - 10s 368us/step - loss: 0.0011\n",
      "Epoch 9/50\n",
      "26088/26088 [==============================] - 10s 372us/step - loss: 9.5889e-04\n",
      "Epoch 10/50\n",
      "26088/26088 [==============================] - 10s 368us/step - loss: 9.2737e-04\n",
      "Epoch 11/50\n",
      "26088/26088 [==============================] - 9s 363us/step - loss: 8.8014e-04\n",
      "Epoch 12/50\n",
      "26088/26088 [==============================] - 10s 369us/step - loss: 8.4696e-04\n",
      "Epoch 13/50\n",
      "26088/26088 [==============================] - 10s 364us/step - loss: 8.1787e-04\n",
      "Epoch 14/50\n",
      "26088/26088 [==============================] - 10s 377us/step - loss: 8.1396e-04\n",
      "Epoch 15/50\n",
      "26088/26088 [==============================] - 10s 373us/step - loss: 8.2488e-040s - loss: 8.\n",
      "Epoch 16/50\n",
      "26088/26088 [==============================] - 10s 389us/step - loss: 7.8483e-04\n",
      "Epoch 17/50\n",
      "26088/26088 [==============================] - 10s 384us/step - loss: 8.0815e-04\n",
      "Epoch 18/50\n",
      "26088/26088 [==============================] - 10s 375us/step - loss: 8.3246e-04\n",
      "Epoch 19/50\n",
      "26088/26088 [==============================] - 10s 373us/step - loss: 8.4004e-04\n",
      "Epoch 20/50\n",
      "26088/26088 [==============================] - 9s 364us/step - loss: 8.5892e-04\n",
      "Epoch 21/50\n",
      "26088/26088 [==============================] - 9s 356us/step - loss: 8.4383e-04\n",
      "Epoch 22/50\n",
      "26088/26088 [==============================] - 10s 372us/step - loss: 8.2166e-04\n",
      "Epoch 23/50\n",
      "26088/26088 [==============================] - 10s 370us/step - loss: 8.2131e-04\n",
      "Epoch 24/50\n",
      "26088/26088 [==============================] - 9s 354us/step - loss: 8.3426e-04\n",
      "Epoch 25/50\n",
      "26088/26088 [==============================] - 9s 363us/step - loss: 8.2447e-04\n",
      "Epoch 26/50\n",
      "26088/26088 [==============================] - 9s 362us/step - loss: 8.3676e-04\n",
      "Epoch 27/50\n",
      "26088/26088 [==============================] - 10s 398us/step - loss: 8.3455e-04\n",
      "Epoch 28/50\n",
      "26088/26088 [==============================] - 10s 374us/step - loss: 8.5356e-04\n",
      "Epoch 29/50\n",
      "26088/26088 [==============================] - 10s 366us/step - loss: 8.1417e-04\n",
      "Epoch 30/50\n",
      "26088/26088 [==============================] - 10s 371us/step - loss: 8.4235e-04\n",
      "Epoch 31/50\n",
      "26088/26088 [==============================] - 10s 368us/step - loss: 8.2489e-04\n",
      "Epoch 32/50\n",
      "26088/26088 [==============================] - 10s 376us/step - loss: 8.2706e-04\n",
      "Epoch 33/50\n",
      "26088/26088 [==============================] - 10s 374us/step - loss: 8.2041e-04\n",
      "Epoch 34/50\n",
      "26088/26088 [==============================] - 10s 366us/step - loss: 7.9439e-04\n",
      "Epoch 35/50\n",
      "26088/26088 [==============================] - 10s 378us/step - loss: 8.3237e-04\n",
      "Epoch 36/50\n",
      "26088/26088 [==============================] - 10s 366us/step - loss: 8.0545e-04\n",
      "Epoch 37/50\n",
      "26088/26088 [==============================] - 10s 373us/step - loss: 8.4672e-04\n",
      "Epoch 38/50\n",
      "26088/26088 [==============================] - 10s 375us/step - loss: 8.0141e-04\n",
      "Epoch 39/50\n",
      "26088/26088 [==============================] - 10s 373us/step - loss: 8.0436e-04\n",
      "Epoch 40/50\n",
      "26088/26088 [==============================] - 10s 373us/step - loss: 8.1284e-04\n",
      "Epoch 41/50\n",
      "26088/26088 [==============================] - 10s 368us/step - loss: 8.0048e-04\n",
      "Epoch 42/50\n",
      "26088/26088 [==============================] - 10s 376us/step - loss: 7.9264e-04\n",
      "Epoch 43/50\n",
      "26088/26088 [==============================] - 10s 376us/step - loss: 7.9825e-04\n",
      "Epoch 44/50\n",
      "26088/26088 [==============================] - 10s 371us/step - loss: 7.9914e-04\n",
      "Epoch 45/50\n",
      "26088/26088 [==============================] - 10s 376us/step - loss: 8.3021e-04\n",
      "Epoch 46/50\n",
      "26088/26088 [==============================] - 10s 373us/step - loss: 7.9222e-04\n",
      "Epoch 47/50\n",
      "26088/26088 [==============================] - 10s 377us/step - loss: 8.0513e-04\n",
      "Epoch 48/50\n",
      "26088/26088 [==============================] - 10s 376us/step - loss: 8.0427e-04\n",
      "Epoch 49/50\n",
      "26088/26088 [==============================] - 10s 371us/step - loss: 7.9793e-04\n",
      "Epoch 50/50\n",
      "26088/26088 [==============================] - 10s 379us/step - loss: 7.8631e-04\n"
     ]
    },
    {
     "data": {
      "text/plain": [
       "<keras.callbacks.callbacks.History at 0x23c8df1cfc8>"
      ]
     },
     "execution_count": 52,
     "metadata": {},
     "output_type": "execute_result"
    }
   ],
   "source": [
    "regressorRNN = Sequential()\n",
    "# First RNN layer with Dropout regularisation\n",
    "regressorRNN.add(SimpleRNN(units=100, return_sequences=True, input_shape=(X_train.shape[1],1), activation='tanh'))\n",
    "regressorRNN.add(Dropout(0.1))\n",
    "# Second RNN layer\n",
    "regressorRNN.add(SimpleRNN(units=100, return_sequences=True, input_shape=(X_train.shape[1],1), activation='tanh'))\n",
    "regressorRNN.add(Dropout(0.1))\n",
    "# Third RNN layer\n",
    "regressorRNN.add(SimpleRNN(units=100, return_sequences=True, input_shape=(X_train.shape[1],1), activation='tanh'))\n",
    "regressorRNN.add(Dropout(0.1))\n",
    "# Fourth RNN layer\n",
    "regressorRNN.add(SimpleRNN(units=100, activation='tanh'))\n",
    "regressorRNN.add(Dropout(0.1))\n",
    "# The output layer\n",
    "regressorRNN.add(Dense(units=1))\n",
    "# Compiling the RNN\n",
    "regressorRNN.compile(optimizer='adam',loss='mean_squared_error',\n",
    "                    ) #RMSPROP faceva schifo (prendeva solo il sopra), adam prende tutto.\n",
    "# Fitting to the training set\n",
    "regressorRNN.fit(X_train,y_train,epochs=50,batch_size=38)"
   ]
  },
  {
   "cell_type": "code",
   "execution_count": 53,
   "metadata": {},
   "outputs": [],
   "source": [
    "d = pd.read_csv(r'df_prova.csv', parse_dates = ['Data'])\n",
    "d = d['PUN']\n",
    "inputs = d[len(d) - len(Test_set)-24:].values\n",
    "inputs = inputs.reshape(-1, 1)\n",
    "inputs = sc.transform(inputs)"
   ]
  },
  {
   "cell_type": "code",
   "execution_count": 54,
   "metadata": {},
   "outputs": [],
   "source": [
    "X_test = []\n",
    "for i in range(24,192):\n",
    "    X_test.append(inputs[i-24:i,0])\n",
    "X_test = np.array(X_test)\n",
    "X_test = np.reshape(X_test, (X_test.shape[0],X_test.shape[1],1))\n",
    "predicted_test_price = regressorRNN.predict(X_test)\n",
    "predicted_test_price = sc.inverse_transform(predicted_test_price)"
   ]
  },
  {
   "cell_type": "code",
   "execution_count": 55,
   "metadata": {},
   "outputs": [
    {
     "data": {
      "image/png": "[encoded data removed]",
      "text/plain": [
       "<Figure size 432x288 with 1 Axes>"
      ]
     },
     "metadata": {
      "needs_background": "light"
     },
     "output_type": "display_data"
    }
   ],
   "source": [
    "plt.plot(Test_set, label = 'Target')\n",
    "plt.plot(predicted_test_price, label = 'Predicted_final')\n",
    "plt.title('Test Set')\n",
    "plt.legend()\n",
    "plt.savefig('testRNN_2.png')"
   ]
  },
  {
   "cell_type": "code",
   "execution_count": 56,
   "metadata": {},
   "outputs": [
    {
     "name": "stdout",
     "output_type": "stream",
     "text": [
      "MAE:  2.686\n",
      "RMSE:  3.586\n",
      "MAPE:  7.017\n"
     ]
    }
   ],
   "source": [
    "print('MAE: ', np.round(mean_absolute_error(Test_set, predicted_test_price), 3))\n",
    "print('RMSE: ', np.round(math.sqrt(mean_squared_error(Test_set, predicted_test_price)), 3))\n",
    "print('MAPE: ', np.round(math.sqrt(mean_absolute_percentage_error(Test_set, predicted_test_price)), 3))"
   ]
  },
  {
   "cell_type": "code",
   "execution_count": 57,
   "metadata": {},
   "outputs": [],
   "source": [
    "inputs = d[:len(Training_set)+24].values\n",
    "inputs = inputs.reshape(-1, 1)\n",
    "inputs = sc.transform(inputs)"
   ]
  },
  {
   "cell_type": "code",
   "execution_count": 58,
   "metadata": {},
   "outputs": [],
   "source": [
    "X_train = []\n",
    "for i in range(24,26136):\n",
    "    X_train.append(inputs[i-24:i,0])\n",
    "X_train = np.array(X_train)\n",
    "X_train = np.reshape(X_train, (X_train.shape[0], 24 ,1))\n",
    "predicted_train_price = regressorRNN.predict(X_train)\n",
    "predicted_train_price = sc.inverse_transform(predicted_train_price)"
   ]
  },
  {
   "cell_type": "code",
   "execution_count": 59,
   "metadata": {},
   "outputs": [
    {
     "data": {
      "image/png": "[encoded data removed]",
      "text/plain": [
       "<Figure size 432x288 with 1 Axes>"
      ]
     },
     "metadata": {
      "needs_background": "light"
     },
     "output_type": "display_data"
    }
   ],
   "source": [
    "plt.plot(Training_set, label = \"Target\")\n",
    "plt.plot(predicted_train_price, label = \"Predicted_final\")\n",
    "plt.title('Train Set')\n",
    "plt.legend()\n",
    "plt.savefig('TrainRNN_2.png')"
   ]
  },
  {
   "cell_type": "code",
   "execution_count": 60,
   "metadata": {},
   "outputs": [
    {
     "name": "stdout",
     "output_type": "stream",
     "text": [
      "MAE:  6.394\n",
      "RMSE:  9.199\n",
      "MAPE:  3.528\n"
     ]
    }
   ],
   "source": [
    "print('MAE: ', np.round(mean_absolute_error(Training_set, predicted_train_price),3))\n",
    "print('RMSE: ', np.round(math.sqrt(mean_squared_error(Training_set, predicted_train_price)), 3))\n",
    "print('MAPE: ', np.round(math.sqrt(mean_absolute_percentage_error(Training_set, predicted_train_price)), 3))"
   ]
  },
  {
   "cell_type": "code",
   "execution_count": null,
   "metadata": {},
   "outputs": [],
   "source": []
  }
 ],
 "metadata": {
  "kernelspec": {
   "display_name": "Python 3",
   "language": "python",
   "name": "python3"
  },
  "language_info": {
   "codemirror_mode": {
    "name": "ipython",
    "version": 3
   },
   "file_extension": ".py",
   "mimetype": "text/x-python",
   "name": "python",
   "nbconvert_exporter": "python",
   "pygments_lexer": "ipython3",
   "version": "3.7.4"
  }
 },
 "nbformat": 4,
 "nbformat_minor": 4
}
