{
 "cells": [
  {
   "cell_type": "code",
   "execution_count": 1,
   "metadata": {},
   "outputs": [
    {
     "name": "stderr",
     "output_type": "stream",
     "text": [
      "Using TensorFlow backend.\n"
     ]
    }
   ],
   "source": [
    "import numpy as np\n",
    "import tensorflow as tf\n",
    "import random as python_random\n",
    "\n",
    "# The below is necessary for starting Numpy generated random numbers\n",
    "# in a well-defined initial state.\n",
    "np.random.seed(777)\n",
    "\n",
    "# The below is necessary for starting core Python generated random numbers\n",
    "# in a well-defined state.\n",
    "python_random.seed(745)\n",
    "\n",
    "# The below set_seed() will make random number generation\n",
    "# in the TensorFlow backend have a well-defined initial state.\n",
    "tf.random.set_seed(1234455)\n",
    "import numpy as np\n",
    "import matplotlib.pyplot as plt\n",
    "import pandas as pd\n",
    "from sklearn.preprocessing import MinMaxScaler\n",
    "from keras.models import Sequential\n",
    "from keras.layers import Dense, LSTM, Dropout, GRU, Bidirectional, Activation\n",
    "from keras.optimizers import SGD\n",
    "import math\n",
    "from sklearn.metrics import mean_squared_error\n",
    "from sklearn.metrics import mean_absolute_error"
   ]
  },
  {
   "cell_type": "code",
   "execution_count": 2,
   "metadata": {},
   "outputs": [],
   "source": [
    "def mean_absolute_percentage_error(y_true, y_pred):\n",
    "    y_true, y_pred = np.array(y_true), np.array(y_pred)\n",
    "    return np.mean(np.abs((y_true - y_pred) / y_true)) * 100\n"
   ]
  },
  {
   "cell_type": "code",
   "execution_count": 3,
   "metadata": {},
   "outputs": [],
   "source": [
    "dataset = pd.read_csv(r'df_prova.csv', parse_dates = ['Data'])\n",
    "\n",
    "dataset = dataset['PUN'].values\n",
    "\n",
    "dataset\n",
    "\n",
    "Training_set = dataset[:26112]\n",
    "Test_set = dataset[26112:]\n",
    "\n",
    "Training_set = Training_set.reshape(-1, 1)"
   ]
  },
  {
   "cell_type": "code",
   "execution_count": 4,
   "metadata": {},
   "outputs": [],
   "source": [
    "sc = MinMaxScaler(feature_range=(0,1))"
   ]
  },
  {
   "cell_type": "code",
   "execution_count": 5,
   "metadata": {},
   "outputs": [],
   "source": [
    "training_set_scaled = sc.fit_transform(Training_set)"
   ]
  },
  {
   "cell_type": "code",
   "execution_count": 6,
   "metadata": {},
   "outputs": [],
   "source": [
    "X_train = []\n",
    "y_train = []\n",
    "for i in range(24,26112):\n",
    "    X_train.append(training_set_scaled[i-24:i,0])\n",
    "    y_train.append(training_set_scaled[i,0])\n",
    "X_train, y_train = np.array(X_train), np.array(y_train)\n",
    "\n",
    "X_train = np.reshape(X_train, (X_train.shape[0],X_train.shape[1],1))"
   ]
  },
  {
   "cell_type": "code",
   "execution_count": 7,
   "metadata": {},
   "outputs": [
    {
     "name": "stdout",
     "output_type": "stream",
     "text": [
      "Epoch 1/50\n",
      "26088/26088 [==============================] - 45s 2ms/step - loss: 0.0040\n",
      "Epoch 2/50\n",
      "26088/26088 [==============================] - 43s 2ms/step - loss: 0.0015\n",
      "Epoch 3/50\n",
      "26088/26088 [==============================] - 44s 2ms/step - loss: 0.0013: 0s - lo\n",
      "Epoch 4/50\n",
      "26088/26088 [==============================] - 44s 2ms/step - loss: 0.0012\n",
      "Epoch 5/50\n",
      "26088/26088 [==============================] - 44s 2ms/step - loss: 0.0011\n",
      "Epoch 6/50\n",
      "26088/26088 [==============================] - 44s 2ms/step - loss: 0.0010\n",
      "Epoch 7/50\n",
      "26088/26088 [==============================] - 44s 2ms/step - loss: 9.3727e-04\n",
      "Epoch 8/50\n",
      "26088/26088 [==============================] - 44s 2ms/step - loss: 9.1064e-04\n",
      "Epoch 9/50\n",
      "26088/26088 [==============================] - 44s 2ms/step - loss: 8.6245e-04\n",
      "Epoch 10/50\n",
      "26088/26088 [==============================] - 44s 2ms/step - loss: 8.2227e-04\n",
      "Epoch 11/50\n",
      "26088/26088 [==============================] - 44s 2ms/step - loss: 8.1400e-04\n",
      "Epoch 12/50\n",
      "26088/26088 [==============================] - 44s 2ms/step - loss: 7.8808e-04\n",
      "Epoch 13/50\n",
      "26088/26088 [==============================] - 45s 2ms/step - loss: 7.6864e-04\n",
      "Epoch 14/50\n",
      "26088/26088 [==============================] - 44s 2ms/step - loss: 7.4468e-04: 1s\n",
      "Epoch 15/50\n",
      "26088/26088 [==============================] - 44s 2ms/step - loss: 7.3853e-04\n",
      "Epoch 16/50\n",
      "26088/26088 [==============================] - 45s 2ms/step - loss: 7.2955e-04\n",
      "Epoch 17/50\n",
      "26088/26088 [==============================] - 44s 2ms/step - loss: 7.0697e-04\n",
      "Epoch 18/50\n",
      "26088/26088 [==============================] - 45s 2ms/step - loss: 7.0384e-04: 1s\n",
      "Epoch 19/50\n",
      "26088/26088 [==============================] - 45s 2ms/step - loss: 6.8525e-04\n",
      "Epoch 20/50\n",
      "26088/26088 [==============================] - 45s 2ms/step - loss: 6.7792e-04\n",
      "Epoch 21/50\n",
      "26088/26088 [==============================] - 45s 2ms/step - loss: 6.7655e-04: 1s -\n",
      "Epoch 22/50\n",
      "26088/26088 [==============================] - 45s 2ms/step - loss: 6.5845e-04\n",
      "Epoch 23/50\n",
      "26088/26088 [==============================] - 45s 2ms/step - loss: 6.6609e-04\n",
      "Epoch 24/50\n",
      "26088/26088 [==============================] - 45s 2ms/step - loss: 6.5142e-04\n",
      "Epoch 25/50\n",
      "26088/26088 [==============================] - 46s 2ms/step - loss: 6.5441e-04\n",
      "Epoch 26/50\n",
      "26088/26088 [==============================] - 45s 2ms/step - loss: 6.4752e-04\n",
      "Epoch 27/50\n",
      "26088/26088 [==============================] - 45s 2ms/step - loss: 6.3840e-04: 0s - loss: 6.396\n",
      "Epoch 28/50\n",
      "26088/26088 [==============================] - 45s 2ms/step - loss: 6.3908e-04\n",
      "Epoch 29/50\n",
      "26088/26088 [==============================] - 45s 2ms/step - loss: 6.3088e-04\n",
      "Epoch 30/50\n",
      "26088/26088 [==============================] - 45s 2ms/step - loss: 6.2975e-04: 0s - loss: 6.2951e-0\n",
      "Epoch 31/50\n",
      "26088/26088 [==============================] - 45s 2ms/step - loss: 6.1824e-04\n",
      "Epoch 32/50\n",
      "26088/26088 [==============================] - 45s 2ms/step - loss: 6.2196e-04: 0s - loss: 6\n",
      "Epoch 33/50\n",
      "26088/26088 [==============================] - 45s 2ms/step - loss: 6.1590e-04\n",
      "Epoch 34/50\n",
      "26088/26088 [==============================] - 45s 2ms/step - loss: 6.1422e-04\n",
      "Epoch 35/50\n",
      "26088/26088 [==============================] - 45s 2ms/step - loss: 6.0847e-04\n",
      "Epoch 36/50\n",
      "26088/26088 [==============================] - 45s 2ms/step - loss: 6.0573e-04\n",
      "Epoch 37/50\n",
      "26088/26088 [==============================] - 45s 2ms/step - loss: 6.0297e-04\n",
      "Epoch 38/50\n",
      "26088/26088 [==============================] - 45s 2ms/step - loss: 5.9786e-04\n",
      "Epoch 39/50\n",
      "26088/26088 [==============================] - 45s 2ms/step - loss: 5.9749e-04\n",
      "Epoch 40/50\n",
      "26088/26088 [==============================] - 45s 2ms/step - loss: 5.8766e-04\n",
      "Epoch 41/50\n",
      "26088/26088 [==============================] - 45s 2ms/step - loss: 5.9216e-04\n",
      "Epoch 42/50\n",
      "26088/26088 [==============================] - 46s 2ms/step - loss: 5.8393e-04\n",
      "Epoch 43/50\n",
      "26088/26088 [==============================] - 45s 2ms/step - loss: 5.8229e-04\n",
      "Epoch 44/50\n",
      "26088/26088 [==============================] - 45s 2ms/step - loss: 5.7902e-04\n",
      "Epoch 45/50\n",
      "26088/26088 [==============================] - 46s 2ms/step - loss: 5.7153e-04ETA: \n",
      "Epoch 46/50\n",
      "26088/26088 [==============================] - 46s 2ms/step - loss: 5.8068e-04\n",
      "Epoch 47/50\n",
      "26088/26088 [==============================] - 46s 2ms/step - loss: 5.6501e-04\n",
      "Epoch 48/50\n",
      "26088/26088 [==============================] - 46s 2ms/step - loss: 5.6244e-04\n",
      "Epoch 49/50\n",
      "26088/26088 [==============================] - 46s 2ms/step - loss: 5.5869e-04\n",
      "Epoch 50/50\n",
      "26088/26088 [==============================] - 46s 2ms/step - loss: 5.5379e-04\n"
     ]
    },
    {
     "data": {
      "text/plain": [
       "<keras.callbacks.callbacks.History at 0x20ae104e9c8>"
      ]
     },
     "execution_count": 7,
     "metadata": {},
     "output_type": "execute_result"
    }
   ],
   "source": [
    "regressorGRU = Sequential()\n",
    "# First GRU layer with Dropout regularisation\n",
    "regressorGRU.add(GRU(units=150, return_sequences=True, input_shape=(X_train.shape[1],1), activation='tanh'))\n",
    "regressorGRU.add(Dropout(0.1))\n",
    "# Second GRU layer\n",
    "regressorGRU.add(GRU(units=150, return_sequences=True, input_shape=(X_train.shape[1],1), activation='tanh'))\n",
    "regressorGRU.add(Dropout(0.1))\n",
    "# Third GRU layer\n",
    "regressorGRU.add(GRU(units=150, return_sequences=True, input_shape=(X_train.shape[1],1), activation='tanh'))\n",
    "regressorGRU.add(Dropout(0.1))\n",
    "# Fourth GRU layer\n",
    "regressorGRU.add(GRU(units=150, activation='tanh'))\n",
    "regressorGRU.add(Dropout(0.1))\n",
    "# The output layer\n",
    "regressorGRU.add(Dense(units=1))\n",
    "# Compiling the RNN\n",
    "regressorGRU.compile(optimizer='rmsprop',loss='mean_squared_error')\n",
    "# Fitting to the training set\n",
    "regressorGRU.fit(X_train,y_train,epochs=50,batch_size=50)"
   ]
  },
  {
   "cell_type": "code",
   "execution_count": 8,
   "metadata": {},
   "outputs": [],
   "source": [
    "d = pd.read_csv(r'df_prova.csv', parse_dates = ['Data'])\n",
    "d = d['PUN']\n",
    "inputs = d[len(d) - len(Test_set)-24:].values\n",
    "inputs = inputs.reshape(-1, 1)\n",
    "inputs = sc.transform(inputs)"
   ]
  },
  {
   "cell_type": "code",
   "execution_count": 9,
   "metadata": {},
   "outputs": [],
   "source": [
    "X_test = []\n",
    "for i in range(24,192):\n",
    "    X_test.append(inputs[i-24:i,0])\n",
    "X_test = np.array(X_test)\n",
    "X_test = np.reshape(X_test, (X_test.shape[0],X_test.shape[1],1))\n",
    "predicted_test_price = regressorGRU.predict(X_test)\n",
    "predicted_test_price = sc.inverse_transform(predicted_test_price)"
   ]
  },
  {
   "cell_type": "code",
   "execution_count": 10,
   "metadata": {},
   "outputs": [
    {
     "data": {
      "image/png": "[encoded data removed]",
      "text/plain": [
       "<Figure size 432x288 with 1 Axes>"
      ]
     },
     "metadata": {
      "needs_background": "light"
     },
     "output_type": "display_data"
    }
   ],
   "source": [
    "plt.plot(Test_set, label = 'Target')\n",
    "plt.plot(predicted_test_price, label = 'Predicted_final')\n",
    "plt.title('Test Set')\n",
    "plt.legend()\n",
    "plt.savefig('testGRU_2.png')"
   ]
  },
  {
   "cell_type": "code",
   "execution_count": 11,
   "metadata": {},
   "outputs": [
    {
     "name": "stdout",
     "output_type": "stream",
     "text": [
      "MAE:  2.702\n",
      "RMSE:  3.507\n",
      "MAPE:  7.064\n"
     ]
    }
   ],
   "source": [
    "print('MAE: ', np.round(mean_absolute_error(Test_set, predicted_test_price), 3))\n",
    "print('RMSE: ', np.round(math.sqrt(mean_squared_error(Test_set, predicted_test_price)), 3))\n",
    "print('MAPE: ', np.round(math.sqrt(mean_absolute_percentage_error(Test_set, predicted_test_price)), 3))"
   ]
  },
  {
   "cell_type": "code",
   "execution_count": 12,
   "metadata": {},
   "outputs": [],
   "source": [
    "inputs = d[:len(Training_set)+24].values\n",
    "inputs = inputs.reshape(-1, 1)\n",
    "inputs = sc.transform(inputs)"
   ]
  },
  {
   "cell_type": "code",
   "execution_count": 13,
   "metadata": {},
   "outputs": [],
   "source": [
    "X_train = []\n",
    "for i in range(24,26136):\n",
    "    X_train.append(inputs[i-24:i,0])\n",
    "X_train = np.array(X_train)\n",
    "X_train = np.reshape(X_train, (X_train.shape[0], 24 ,1))\n",
    "predicted_train_price = regressorGRU.predict(X_train)\n",
    "predicted_train_price = sc.inverse_transform(predicted_train_price)"
   ]
  },
  {
   "cell_type": "code",
   "execution_count": 14,
   "metadata": {},
   "outputs": [
    {
     "data": {
      "image/png": "[encoded data removed]",
      "text/plain": [
       "<Figure size 432x288 with 1 Axes>"
      ]
     },
     "metadata": {
      "needs_background": "light"
     },
     "output_type": "display_data"
    }
   ],
   "source": [
    "plt.plot(Training_set, label = \"Target\")\n",
    "plt.plot(predicted_train_price, label = \"Predicted_final\")\n",
    "plt.title('Train Set')\n",
    "plt.legend()\n",
    "plt.savefig('TrainGRU_2.png')"
   ]
  },
  {
   "cell_type": "code",
   "execution_count": 15,
   "metadata": {},
   "outputs": [
    {
     "name": "stdout",
     "output_type": "stream",
     "text": [
      "MAE:  6.635\n",
      "RMSE:  9.637\n",
      "MAPE:  3.58\n"
     ]
    }
   ],
   "source": [
    "print('MAE: ', np.round(mean_absolute_error(Training_set, predicted_train_price),3))\n",
    "print('RMSE: ', np.round(math.sqrt(mean_squared_error(Training_set, predicted_train_price)), 3))\n",
    "print('MAPE: ', np.round(math.sqrt(mean_absolute_percentage_error(Training_set, predicted_train_price)), 3))"
   ]
  },
  {
   "cell_type": "code",
   "execution_count": null,
   "metadata": {},
   "outputs": [],
   "source": []
  }
 ],
 "metadata": {
  "kernelspec": {
   "display_name": "Python 3",
   "language": "python",
   "name": "python3"
  },
  "language_info": {
   "codemirror_mode": {
    "name": "ipython",
    "version": 3
   },
   "file_extension": ".py",
   "mimetype": "text/x-python",
   "name": "python",
   "nbconvert_exporter": "python",
   "pygments_lexer": "ipython3",
   "version": "3.7.4"
  }
 },
 "nbformat": 4,
 "nbformat_minor": 4
}
